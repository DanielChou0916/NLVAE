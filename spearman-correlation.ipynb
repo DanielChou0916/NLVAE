{
 "cells": [
  {
   "cell_type": "code",
   "execution_count": 1,
   "id": "315acdb1",
   "metadata": {
    "_cell_guid": "b1076dfc-b9ad-4769-8c92-a6c4dae69d19",
    "_uuid": "8f2839f25d086af736a60e9eeb907d3b93b6e0e5",
    "execution": {
     "iopub.execute_input": "2023-06-26T12:17:05.039484Z",
     "iopub.status.busy": "2023-06-26T12:17:05.038767Z",
     "iopub.status.idle": "2023-06-26T12:17:08.360897Z",
     "shell.execute_reply": "2023-06-26T12:17:08.359734Z"
    },
    "papermill": {
     "duration": 3.328668,
     "end_time": "2023-06-26T12:17:08.363686",
     "exception": false,
     "start_time": "2023-06-26T12:17:05.035018",
     "status": "completed"
    },
    "tags": []
   },
   "outputs": [],
   "source": [
    "import torch\n",
    "\n",
    "def spearman_correlation_vectorized(a,pair_wise=False):\n",
    "    n,d=a.size()\n",
    "    ranks=a.argsort(dim=0,descending=True).argsort(dim=0)+1\n",
    "    diff=(ranks.unsqueeze(2)-ranks.unsqueeze(1))\n",
    "    if pair_wise:\n",
    "        pair_list=[[i,j] for i in range(d) for j in range(i+1,d)]\n",
    "        pair_wise_rank=(ranks[:,pair_list]).permute(1, 0, -1)\n",
    "        pair_wise_rank.shape\n",
    "        pair_wise_diff=pair_wise_rank[:,:,0]-pair_wise_rank[:,:,1]\n",
    "        return 1-6*(pair_wise_diff**2).sum(1)/(n*(n**2-1))\n",
    "    else:\n",
    "        return 1-6*(diff**2).sum(0)/(n*(n**2-1))\n",
    "    \n",
    "\n",
    "def spearman_correlation(X, Y):\n",
    "    # Calculate ranks\n",
    "    rank_X = X.argsort(descending=True).argsort()+1\n",
    "    rank_Y = Y.argsort(descending=True).argsort()+1\n",
    "    print(rank_X)\n",
    "    # Calculate average ranks\n",
    "    #avg_rank_X = (rank_X.float() + 1).mean()\n",
    "    #avg_rank_Y = (rank_Y.float() + 1).mean()\n",
    "\n",
    "    # Calculate differences in ranks\n",
    "    diff = rank_X - rank_Y\n",
    "    print(diff)\n",
    "    # Calculate sum of squared differences\n",
    "    sum_squared_diff = (diff ** 2).sum()\n",
    "\n",
    "    # Calculate n (number of data points)\n",
    "    n = float(len(X))\n",
    "\n",
    "    # Calculate Spearman's rank correlation coefficient\n",
    "    correlation = 1.0 - (6.0 * sum_squared_diff) / (n * (n ** 2 - 1.0))\n",
    "\n",
    "    return correlation"
   ]
  }
 ],
 "metadata": {
  "kernelspec": {
   "display_name": "Python 3",
   "language": "python",
   "name": "python3"
  },
  "language_info": {
   "codemirror_mode": {
    "name": "ipython",
    "version": 3
   },
   "file_extension": ".py",
   "mimetype": "text/x-python",
   "name": "python",
   "nbconvert_exporter": "python",
   "pygments_lexer": "ipython3",
   "version": "3.10.10"
  },
  "papermill": {
   "default_parameters": {},
   "duration": 16.074274,
   "end_time": "2023-06-26T12:17:09.690917",
   "environment_variables": {},
   "exception": null,
   "input_path": "__notebook__.ipynb",
   "output_path": "__notebook__.ipynb",
   "parameters": {},
   "start_time": "2023-06-26T12:16:53.616643",
   "version": "2.4.0"
  }
 },
 "nbformat": 4,
 "nbformat_minor": 5
}
